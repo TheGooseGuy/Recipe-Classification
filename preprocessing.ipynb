{
  "nbformat": 4,
  "nbformat_minor": 0,
  "metadata": {
    "colab": {
      "provenance": [],
      "toc_visible": true,
      "authorship_tag": "ABX9TyN9zi1/5TAKcP3SgT0hSKOf",
      "include_colab_link": true
    },
    "kernelspec": {
      "name": "python3",
      "display_name": "Python 3"
    },
    "language_info": {
      "name": "python"
    }
  },
  "cells": [
    {
      "cell_type": "markdown",
      "metadata": {
        "id": "view-in-github",
        "colab_type": "text"
      },
      "source": [
        "<a href=\"https://colab.research.google.com/github/TheGooseGuy/Recipe-Classification/blob/main/preprocessing.ipynb\" target=\"_parent\"><img src=\"https://colab.research.google.com/assets/colab-badge.svg\" alt=\"Open In Colab\"/></a>"
      ]
    },
    {
      "cell_type": "code",
      "source": [
        "import json\n",
        "import matplotlib.pyplot as plt\n",
        "import pandas as pd\n",
        "import re\n",
        "import requests\n",
        "\n",
        "import nltk\n",
        "from nltk.corpus import stopwords\n",
        "from nltk.stem import PorterStemmer\n",
        "from nltk.tokenize import word_tokenize"
      ],
      "metadata": {
        "id": "Az1clEN_TqrL"
      },
      "execution_count": 44,
      "outputs": []
    },
    {
      "cell_type": "code",
      "execution_count": 7,
      "metadata": {
        "id": "TioUOzl1SzXF"
      },
      "outputs": [],
      "source": [
        "train_data_url = \"https://github.com/TheGooseGuy/Recipe-Classification/raw/main/Data/train.json\"\n",
        "test_data_url = \"https://github.com/TheGooseGuy/Recipe-Classification/raw/main/Data/test.json\"\n",
        "\n",
        "train_data_response = requests.get(train_data_url)\n",
        "test_data_response = requests.get(test_data_url)\n",
        "\n",
        "train_data = pd.DataFrame(json.loads(train_data_response.text))\n",
        "test_data = pd.DataFrame(json.loads(test_data_response.text))"
      ]
    },
    {
      "cell_type": "markdown",
      "source": [
        "# Exploratory Data Analysis (EDA)"
      ],
      "metadata": {
        "id": "-CTQu-C7VVZN"
      }
    },
    {
      "cell_type": "markdown",
      "source": [
        "## Data Structure"
      ],
      "metadata": {
        "id": "NcivBlhcWpEy"
      }
    },
    {
      "cell_type": "code",
      "source": [
        "print(\"Train dataset:\", train_data.shape)\n",
        "print(train_data.head(20))\n",
        "print(\"\")\n",
        "print(\"Test dataset:\", test_data.shape)\n",
        "print(test_data.head(20))"
      ],
      "metadata": {
        "colab": {
          "base_uri": "https://localhost:8080/"
        },
        "id": "50GU8b7OUu9b",
        "outputId": "cda21de3-0250-4cda-fb34-163feadcee83"
      },
      "execution_count": 19,
      "outputs": [
        {
          "output_type": "stream",
          "name": "stdout",
          "text": [
            "(39774, 3)\n",
            "       id      cuisine                                        ingredients\n",
            "0   10259        greek  [romaine lettuce, black olives, grape tomatoes...\n",
            "1   25693  southern_us  [plain flour, ground pepper, salt, tomatoes, g...\n",
            "2   20130     filipino  [eggs, pepper, salt, mayonaise, cooking oil, g...\n",
            "3   22213       indian                [water, vegetable oil, wheat, salt]\n",
            "4   13162       indian  [black pepper, shallots, cornflour, cayenne pe...\n",
            "5    6602     jamaican  [plain flour, sugar, butter, eggs, fresh ginge...\n",
            "6   42779      spanish  [olive oil, salt, medium shrimp, pepper, garli...\n",
            "7    3735      italian  [sugar, pistachio nuts, white almond bark, flo...\n",
            "8   16903      mexican  [olive oil, purple onion, fresh pineapple, por...\n",
            "9   12734      italian  [chopped tomatoes, fresh basil, garlic, extra-...\n",
            "10   5875      italian  [pimentos, sweet pepper, dried oregano, olive ...\n",
            "11  45887      chinese  [low sodium soy sauce, fresh ginger, dry musta...\n",
            "12   2698      italian  [Italian parsley leaves, walnuts, hot red pepp...\n",
            "13  41995      mexican  [ground cinnamon, fresh cilantro, chili powder...\n",
            "14  31908      italian  [fresh parmesan cheese, butter, all-purpose fl...\n",
            "15  24717       indian  [tumeric, vegetable stock, tomatoes, garam mas...\n",
            "16  34466      british  [greek yogurt, lemon curd, confectioners sugar...\n",
            "17   1420      italian  [italian seasoning, broiler-fryer chicken, may...\n",
            "18   2941         thai   [sugar, hot chili, asian fish sauce, lime juice]\n",
            "19   8152   vietnamese  [soy sauce, vegetable oil, red bell pepper, ch...\n",
            "\n",
            "(9944, 2)\n",
            "       id                                        ingredients\n",
            "0   18009  [baking powder, eggs, all-purpose flour, raisi...\n",
            "1   28583  [sugar, egg yolks, corn starch, cream of tarta...\n",
            "2   41580  [sausage links, fennel bulb, fronds, olive oil...\n",
            "3   29752  [meat cuts, file powder, smoked sausage, okra,...\n",
            "4   35687  [ground black pepper, salt, sausage casings, l...\n",
            "5   38527  [baking powder, all-purpose flour, peach slice...\n",
            "6   19666             [grape juice, orange, white zinfandel]\n",
            "7   41217  [ground ginger, white pepper, green onions, or...\n",
            "8   28753  [diced onions, taco seasoning mix, all-purpose...\n",
            "9   22659  [eggs, cherries, dates, dark muscovado sugar, ...\n",
            "10  21749  [pasta, olive oil, crushed red pepper, cherry ...\n",
            "11  44967  [water, butter, ground sumac, ground lamb, gro...\n",
            "12  42969  [curry powder, ground cumin, chicken wings, ch...\n",
            "13  44883  [pasta, marinara sauce, dried basil, chicken f...\n",
            "14  20827  [salt, custard powder, white sugar, eggs, marg...\n",
            "15  23196  [vegetable oil cooking spray, egg whites, apri...\n",
            "16  35387  [vanilla ice cream, banana liqueur, bananas, p...\n",
            "17  33780  [molasses, hot sauce, baked beans, Grey Poupon...\n",
            "18  19001  [chopped green chilies, sour cream, cheddar ch...\n",
            "19  16526  [cold water, chicken drumsticks, chicken thigh...\n"
          ]
        }
      ]
    },
    {
      "cell_type": "code",
      "source": [
        "print(train_data.info())"
      ],
      "metadata": {
        "colab": {
          "base_uri": "https://localhost:8080/"
        },
        "id": "tpoJZfnuWtQc",
        "outputId": "700b92e5-6103-4166-80ee-c43f549b0266"
      },
      "execution_count": 21,
      "outputs": [
        {
          "output_type": "stream",
          "name": "stdout",
          "text": [
            "<class 'pandas.core.frame.DataFrame'>\n",
            "RangeIndex: 39774 entries, 0 to 39773\n",
            "Data columns (total 3 columns):\n",
            " #   Column       Non-Null Count  Dtype \n",
            "---  ------       --------------  ----- \n",
            " 0   id           39774 non-null  int64 \n",
            " 1   cuisine      39774 non-null  object\n",
            " 2   ingredients  39774 non-null  object\n",
            "dtypes: int64(1), object(2)\n",
            "memory usage: 932.3+ KB\n",
            "None\n",
            "\n"
          ]
        }
      ]
    },
    {
      "cell_type": "code",
      "source": [
        "print(test_data.info())"
      ],
      "metadata": {
        "colab": {
          "base_uri": "https://localhost:8080/"
        },
        "id": "vQXHehKBW4oR",
        "outputId": "38244c07-1e65-4498-99a8-86cb21a28b75"
      },
      "execution_count": 23,
      "outputs": [
        {
          "output_type": "stream",
          "name": "stdout",
          "text": [
            "<class 'pandas.core.frame.DataFrame'>\n",
            "RangeIndex: 9944 entries, 0 to 9943\n",
            "Data columns (total 2 columns):\n",
            " #   Column       Non-Null Count  Dtype \n",
            "---  ------       --------------  ----- \n",
            " 0   id           9944 non-null   int64 \n",
            " 1   ingredients  9944 non-null   object\n",
            "dtypes: int64(1), object(1)\n",
            "memory usage: 155.5+ KB\n",
            "None\n"
          ]
        }
      ]
    },
    {
      "cell_type": "markdown",
      "source": [
        "Train dataset has 3 columns, \"id\", \"cuisine\", and \"ingredients\". It has 39774 rows.  \n",
        "Test dataset has 2 colums, \"id\" and \"ingredients\". It has 9944 rows. We have to predict the \"cuisine\" column in this dataset."
      ],
      "metadata": {
        "id": "BEgpSws5VaxW"
      }
    },
    {
      "cell_type": "markdown",
      "source": [
        "## Analyze Ingredient Frequency and Variety"
      ],
      "metadata": {
        "id": "Ws1hbbD5W_ay"
      }
    },
    {
      "cell_type": "code",
      "source": [
        "from collections import Counter\n",
        "\n",
        "# Flatten the list of ingredients\n",
        "all_ingredients = [ingredient for sublist in train_data['ingredients'] for ingredient in sublist]\n",
        "ingredient_counts = Counter(all_ingredients)\n",
        "\n",
        "# Top 20 most common ingredients\n",
        "print(\"Top 10 most common ingredients:\")\n",
        "for i in ingredient_counts.most_common(20):\n",
        "    print(f\"{i[0]}: {i[1]}\")\n",
        "\n",
        "print(\"\")\n",
        "\n",
        "# Bottom 10 least common ingredients\n",
        "print(\"Bottom 10 least common ingredients:\")\n",
        "for i in ingredient_counts.most_common()[-10:]:\n",
        "    print(f\"{i[0]}: {i[1]}\")"
      ],
      "metadata": {
        "colab": {
          "base_uri": "https://localhost:8080/"
        },
        "id": "pqaqV1IGV5Hf",
        "outputId": "401a2b65-8dd8-45ac-82b3-a91660a9ff3a"
      },
      "execution_count": 31,
      "outputs": [
        {
          "output_type": "stream",
          "name": "stdout",
          "text": [
            "Top 10 most common ingredients:\n",
            "salt: 18049\n",
            "onions: 7972\n",
            "olive oil: 7972\n",
            "water: 7457\n",
            "garlic: 7380\n",
            "sugar: 6434\n",
            "garlic cloves: 6237\n",
            "butter: 4848\n",
            "ground black pepper: 4785\n",
            "all-purpose flour: 4632\n",
            "pepper: 4438\n",
            "vegetable oil: 4385\n",
            "eggs: 3388\n",
            "soy sauce: 3296\n",
            "kosher salt: 3113\n",
            "green onions: 3078\n",
            "tomatoes: 3058\n",
            "large eggs: 2948\n",
            "carrots: 2814\n",
            "unsalted butter: 2782\n",
            "\n",
            "Bottom 10 least common ingredients:\n",
            "Oscar Mayer Cotto Salami: 1\n",
            "Challenge Butter: 1\n",
            "orange glaze: 1\n",
            "cholesterol free egg substitute: 1\n",
            "ciabatta loaf: 1\n",
            "Lipton® Iced Tea Brew Family Size Tea Bags: 1\n",
            "Hidden Valley® Greek Yogurt Original Ranch® Dip Mix: 1\n",
            "lop chong: 1\n",
            "tomato garlic pasta sauce: 1\n",
            "crushed cheese crackers: 1\n"
          ]
        }
      ]
    },
    {
      "cell_type": "code",
      "source": [
        "# Bar plot for top ingredients\n",
        "top_ingredients = ingredient_counts.most_common(20)\n",
        "ingredients, counts = zip(*top_ingredients)\n",
        "\n",
        "plt.figure(figsize=(10, 6))\n",
        "plt.barh(ingredients, counts, color='skyblue')\n",
        "plt.xlabel('Count')\n",
        "plt.title('Top 20 Most Common Ingredients')\n",
        "plt.gca().invert_yaxis()\n",
        "plt.show()\n"
      ],
      "metadata": {
        "colab": {
          "base_uri": "https://localhost:8080/",
          "height": 584
        },
        "id": "01z7jWJvXkbG",
        "outputId": "b61d3618-aee1-4ebd-9136-2ce27f4a3627"
      },
      "execution_count": 30,
      "outputs": [
        {
          "output_type": "display_data",
          "data": {
            "text/plain": [
              "<Figure size 1000x600 with 1 Axes>"
            ],
            "image/png": "[encoded data removed]"
          },
          "metadata": {}
        }
      ]
    },
    {
      "cell_type": "markdown",
      "source": [
        "## Missing or Unusual Data"
      ],
      "metadata": {
        "id": "HI5Q0EqSX8zs"
      }
    },
    {
      "cell_type": "code",
      "source": [
        "print(train_data.isnull().sum())\n",
        "\n",
        "print(\"\")\n",
        "\n",
        "print(test_data.isnull().sum())"
      ],
      "metadata": {
        "colab": {
          "base_uri": "https://localhost:8080/"
        },
        "id": "yPUhDL-CX8YV",
        "outputId": "b3137b25-6e01-4564-ed42-bbc6c2c09f46"
      },
      "execution_count": 34,
      "outputs": [
        {
          "output_type": "stream",
          "name": "stdout",
          "text": [
            "id             0\n",
            "cuisine        0\n",
            "ingredients    0\n",
            "dtype: int64\n",
            "\n",
            "id             0\n",
            "ingredients    0\n",
            "dtype: int64\n"
          ]
        }
      ]
    },
    {
      "cell_type": "markdown",
      "source": [
        "Both train dataset and test dataset has no missing value."
      ],
      "metadata": {
        "id": "BhjnJn19YJMw"
      }
    },
    {
      "cell_type": "code",
      "source": [
        "# Find rows with empty ingredient lists\n",
        "empty_ingredients = train_data[train_data['ingredients'].apply(len) == 0]\n",
        "print(f\"Number of recipes with no ingredients: {len(empty_ingredients)}\")"
      ],
      "metadata": {
        "colab": {
          "base_uri": "https://localhost:8080/"
        },
        "id": "RFQzBeSRYGC_",
        "outputId": "53981f9a-e1f4-499a-a49a-17bd38ed4bcf"
      },
      "execution_count": 37,
      "outputs": [
        {
          "output_type": "stream",
          "name": "stdout",
          "text": [
            "Number of recipes with no ingredients: 0\n"
          ]
        }
      ]
    },
    {
      "cell_type": "markdown",
      "source": [
        "## Class Distribution"
      ],
      "metadata": {
        "id": "9BjlblZrYXh9"
      }
    },
    {
      "cell_type": "code",
      "source": [
        "cuisine_counts = train_data['cuisine'].value_counts()\n",
        "print(cuisine_counts)"
      ],
      "metadata": {
        "colab": {
          "base_uri": "https://localhost:8080/"
        },
        "id": "DvGQyfdAYXTo",
        "outputId": "1bd3832d-38ce-4d25-f148-05aa7e1808da"
      },
      "execution_count": 40,
      "outputs": [
        {
          "output_type": "stream",
          "name": "stdout",
          "text": [
            "cuisine\n",
            "italian         7838\n",
            "mexican         6438\n",
            "southern_us     4320\n",
            "indian          3003\n",
            "chinese         2673\n",
            "french          2646\n",
            "cajun_creole    1546\n",
            "thai            1539\n",
            "japanese        1423\n",
            "greek           1175\n",
            "spanish          989\n",
            "korean           830\n",
            "vietnamese       825\n",
            "moroccan         821\n",
            "british          804\n",
            "filipino         755\n",
            "irish            667\n",
            "jamaican         526\n",
            "russian          489\n",
            "brazilian        467\n",
            "Name: count, dtype: int64\n"
          ]
        }
      ]
    },
    {
      "cell_type": "markdown",
      "source": [
        "The classes are imbalanced, however, whether use resampling or not should be decided by model choice as different model has different sensitivity to class imbalance."
      ],
      "metadata": {
        "id": "0SWs6ikQZAap"
      }
    },
    {
      "cell_type": "markdown",
      "source": [
        "# Preprocessing"
      ],
      "metadata": {
        "id": "VzJdSZUHZU7R"
      }
    },
    {
      "cell_type": "code",
      "source": [
        "train_data['is_train'] = 1\n",
        "test_data['is_train'] = 0\n",
        "\n",
        "# Combine train and test data for preprocessing\n",
        "combined_data = pd.concat([train_data, test_data], ignore_index=True)"
      ],
      "metadata": {
        "id": "SoahWhErZ8Kh"
      },
      "execution_count": 46,
      "outputs": []
    },
    {
      "cell_type": "markdown",
      "source": [
        "## Text Cleaning"
      ],
      "metadata": {
        "id": "5ktuJbmWaaIe"
      }
    },
    {
      "cell_type": "code",
      "source": [
        "nltk.download('stopwords')\n",
        "\n",
        "nltk.download('punkt_tab')"
      ],
      "metadata": {
        "colab": {
          "base_uri": "https://localhost:8080/"
        },
        "id": "MgJvLkajZ0MZ",
        "outputId": "5c13fc3e-9258-48df-89ac-509b5a8b4fe5"
      },
      "execution_count": 48,
      "outputs": [
        {
          "output_type": "stream",
          "name": "stderr",
          "text": [
            "[nltk_data] Downloading package stopwords to /root/nltk_data...\n",
            "[nltk_data]   Package stopwords is already up-to-date!\n",
            "[nltk_data] Downloading package punkt_tab to /root/nltk_data...\n",
            "[nltk_data]   Unzipping tokenizers/punkt_tab.zip.\n"
          ]
        },
        {
          "output_type": "execute_result",
          "data": {
            "text/plain": [
              "True"
            ]
          },
          "metadata": {},
          "execution_count": 48
        }
      ]
    },
    {
      "cell_type": "code",
      "source": [
        "# Initialize tools for stemming\n",
        "stemmer = PorterStemmer()\n",
        "stop_words = set(stopwords.words('english'))\n",
        "\n",
        "# Example cleaning function\n",
        "def clean_ingredients(ingredients):\n",
        "    cleaned = []\n",
        "    for ingredient in ingredients:\n",
        "        # Lowercase\n",
        "        ingredient = ingredient.lower()\n",
        "        # Remove special characters\n",
        "        ingredient = re.sub(r'[^a-z\\s]', '', ingredient)\n",
        "        # Tokenize and optionally remove stopwords\n",
        "        tokens = word_tokenize(ingredient)\n",
        "        tokens = [word for word in tokens if word not in stop_words]\n",
        "        # Stem words\n",
        "        tokens = [stemmer.stem(word) for word in tokens]\n",
        "        cleaned.append(\" \".join(tokens))\n",
        "    return cleaned\n",
        "\n",
        "combined_data['cleaned_ingredients'] = combined_data['ingredients'].apply(clean_ingredients)"
      ],
      "metadata": {
        "id": "x0QkwjvXZWYg"
      },
      "execution_count": 49,
      "outputs": []
    },
    {
      "cell_type": "markdown",
      "source": [
        "## Convert Ingredients to Text Data"
      ],
      "metadata": {
        "id": "jTNFWcfbadFy"
      }
    },
    {
      "cell_type": "code",
      "source": [
        "# Combine ingredients into a single string for each row\n",
        "combined_data['ingredients_text'] = combined_data['cleaned_ingredients'].apply(lambda x: ' '.join(x))"
      ],
      "metadata": {
        "id": "Sp-zq7E-a3N-"
      },
      "execution_count": 50,
      "outputs": []
    },
    {
      "cell_type": "markdown",
      "source": [
        "## Feature Engineering"
      ],
      "metadata": {
        "id": "jSEj2cGDa84o"
      }
    },
    {
      "cell_type": "code",
      "source": [
        "combined_data['ingredient_count'] = combined_data['ingredients'].apply(len)"
      ],
      "metadata": {
        "id": "dCkIeixTbF7Y"
      },
      "execution_count": 51,
      "outputs": []
    },
    {
      "cell_type": "markdown",
      "source": [
        "## Summary"
      ],
      "metadata": {
        "id": "LkWIA80-bMRs"
      }
    },
    {
      "cell_type": "code",
      "source": [
        "print(combined_data.head(5))"
      ],
      "metadata": {
        "colab": {
          "base_uri": "https://localhost:8080/"
        },
        "id": "7j3WfVOAbLzW",
        "outputId": "8c7396b0-9e6c-4de1-d0f7-410ff7e6fb44"
      },
      "execution_count": 53,
      "outputs": [
        {
          "output_type": "stream",
          "name": "stdout",
          "text": [
            "      id      cuisine                                        ingredients  \\\n",
            "0  10259        greek  [romaine lettuce, black olives, grape tomatoes...   \n",
            "1  25693  southern_us  [plain flour, ground pepper, salt, tomatoes, g...   \n",
            "2  20130     filipino  [eggs, pepper, salt, mayonaise, cooking oil, g...   \n",
            "3  22213       indian                [water, vegetable oil, wheat, salt]   \n",
            "4  13162       indian  [black pepper, shallots, cornflour, cayenne pe...   \n",
            "\n",
            "   is_train                                cleaned_ingredients  \\\n",
            "0         1  [romain lettuc, black oliv, grape tomato, garl...   \n",
            "1         1  [plain flour, ground pepper, salt, tomato, gro...   \n",
            "2         1  [egg, pepper, salt, mayonais, cook oil, green ...   \n",
            "3         1                    [water, veget oil, wheat, salt]   \n",
            "4         1  [black pepper, shallot, cornflour, cayenn pepp...   \n",
            "\n",
            "                                    ingredients_text  ingredient_count  \n",
            "0  romain lettuc black oliv grape tomato garlic p...                 9  \n",
            "1  plain flour ground pepper salt tomato ground b...                11  \n",
            "2  egg pepper salt mayonais cook oil green chili ...                12  \n",
            "3                         water veget oil wheat salt                 4  \n",
            "4  black pepper shallot cornflour cayenn pepper o...                20  \n"
          ]
        }
      ]
    },
    {
      "cell_type": "code",
      "source": [
        "train_data = combined_data[combined_data['is_train'] == 1]\n",
        "test_data = combined_data[combined_data['is_train'] == 0]"
      ],
      "metadata": {
        "id": "uirhwoijcagH"
      },
      "execution_count": 56,
      "outputs": []
    },
    {
      "cell_type": "markdown",
      "source": [
        "# Convert Text to Vectors"
      ],
      "metadata": {
        "id": "J-I-A58Zbpvg"
      }
    },
    {
      "cell_type": "markdown",
      "source": [
        "Two options:\n",
        "1. TF-IDF,\n",
        "2. Word Embeddings: Use pre-trained embeddings (e.g., Word2Vec, GloVe)."
      ],
      "metadata": {
        "id": "VSSRFHLIb3jc"
      }
    },
    {
      "cell_type": "markdown",
      "source": [
        "## TF-IDF"
      ],
      "metadata": {
        "id": "ZrsIVupLb_VY"
      }
    },
    {
      "cell_type": "code",
      "source": [
        "from sklearn.feature_extraction.text import TfidfVectorizer\n",
        "\n",
        "# Initialize the vectorizer\n",
        "tfidf = TfidfVectorizer(\n",
        "    max_features=1000,  # Limit to top 1000 terms\n",
        "    ngram_range=(1, 1),  # Use unigrams only\n",
        "    min_df=5,         # Ignore terms appearing in less than 5 documents\n",
        "    max_df=0.8           # Ignore terms appearing in more than 80% of documents\n",
        ")"
      ],
      "metadata": {
        "id": "Oe-TKQUWbrad"
      },
      "execution_count": 59,
      "outputs": []
    },
    {
      "cell_type": "code",
      "source": [
        "# Fit the vectorizer to the text data\n",
        "X_tfidf = tfidf.fit_transform(train_data['ingredients_text'])\n",
        "\n",
        "# Convert the result to a DataFrame for interpretability\n",
        "tfidf_df = pd.DataFrame(X_tfidf.toarray(), columns=tfidf.get_feature_names_out())"
      ],
      "metadata": {
        "id": "QUPjrsMMcWV4"
      },
      "execution_count": 60,
      "outputs": []
    },
    {
      "cell_type": "code",
      "source": [
        "print(tfidf_df.head())\n"
      ],
      "metadata": {
        "colab": {
          "base_uri": "https://localhost:8080/"
        },
        "id": "U75QW6tkcjN8",
        "outputId": "34069da4-d294-4719-b185-a3fadedc67e1"
      },
      "execution_count": 61,
      "outputs": [
        {
          "output_type": "stream",
          "name": "stdout",
          "text": [
            "   achiot  activ  adobo  agav  age  ale  alfredo  allpurpos  allspic  almond  \\\n",
            "0     0.0    0.0    0.0   0.0  0.0  0.0      0.0        0.0      0.0     0.0   \n",
            "1     0.0    0.0    0.0   0.0  0.0  0.0      0.0        0.0      0.0     0.0   \n",
            "2     0.0    0.0    0.0   0.0  0.0  0.0      0.0        0.0      0.0     0.0   \n",
            "3     0.0    0.0    0.0   0.0  0.0  0.0      0.0        0.0      0.0     0.0   \n",
            "4     0.0    0.0    0.0   0.0  0.0  0.0      0.0        0.0      0.0     0.0   \n",
            "\n",
            "   ...  yeast    yellow  yoghurt    yogurt  yolk  yukon  zest  zesti  ziti  \\\n",
            "0  ...    0.0  0.000000      0.0  0.000000   0.0    0.0   0.0    0.0   0.0   \n",
            "1  ...    0.0  0.278648      0.0  0.000000   0.0    0.0   0.0    0.0   0.0   \n",
            "2  ...    0.0  0.275939      0.0  0.000000   0.0    0.0   0.0    0.0   0.0   \n",
            "3  ...    0.0  0.000000      0.0  0.000000   0.0    0.0   0.0    0.0   0.0   \n",
            "4  ...    0.0  0.000000      0.0  0.195325   0.0    0.0   0.0    0.0   0.0   \n",
            "\n",
            "   zucchini  \n",
            "0       0.0  \n",
            "1       0.0  \n",
            "2       0.0  \n",
            "3       0.0  \n",
            "4       0.0  \n",
            "\n",
            "[5 rows x 1000 columns]\n"
          ]
        }
      ]
    },
    {
      "cell_type": "code",
      "source": [
        "# Combine TF-IDF features with other engineered features\n",
        "X = pd.concat([tfidf_df, train_data[['ingredient_count']].reset_index(drop=True)], axis=1)"
      ],
      "metadata": {
        "id": "8Ny3MLZNcwfA"
      },
      "execution_count": 63,
      "outputs": []
    }
  ]
}